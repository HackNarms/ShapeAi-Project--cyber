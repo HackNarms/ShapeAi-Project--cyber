{
 "cells": [
  {
   "cell_type": "markdown",
   "metadata": {},
   "source": [
    "$Shape AI$ $Project$"
   ]
  },
  {
   "cell_type": "markdown",
   "metadata": {},
   "source": [
    "$Current$ $Weather$ $of$ $Your$ $City$"
   ]
  },
  {
   "cell_type": "code",
   "execution_count": 1,
   "metadata": {},
   "outputs": [],
   "source": [
    "import requests"
   ]
  },
  {
   "cell_type": "code",
   "execution_count": 2,
   "metadata": {},
   "outputs": [],
   "source": [
    "from datetime import datetime"
   ]
  },
  {
   "cell_type": "code",
   "execution_count": 3,
   "metadata": {},
   "outputs": [],
   "source": [
    "api_key = \"13afbbb35059b521d3379816caeb1cd7\""
   ]
  },
  {
   "cell_type": "code",
   "execution_count": 4,
   "metadata": {},
   "outputs": [
    {
     "name": "stdout",
     "output_type": "stream",
     "text": [
      "Enter your city name: kollam\n"
     ]
    }
   ],
   "source": [
    "Enter_location = input(\"Enter your city name: \")"
   ]
  },
  {
   "cell_type": "code",
   "execution_count": 6,
   "metadata": {},
   "outputs": [],
   "source": [
    "our_api_link = \"http://api.openweathermap.org/data/2.5/weather?q=\"+Enter_location+\"&appid=\"+api_key"
   ]
  },
  {
   "cell_type": "code",
   "execution_count": 7,
   "metadata": {},
   "outputs": [],
   "source": [
    "api_link = requests.get(our_api_link)"
   ]
  },
  {
   "cell_type": "code",
   "execution_count": 8,
   "metadata": {},
   "outputs": [],
   "source": [
    "api_data = api_link.json()"
   ]
  },
  {
   "cell_type": "code",
   "execution_count": 9,
   "metadata": {},
   "outputs": [],
   "source": [
    "city_name = api_data['name']\n",
    "temp_city = ((api_data['main']['temp']) - 273.15)\n",
    "weather_desc = api_data['weather'][0]['description']\n",
    "hmdt = api_data['main']['humidity']\n",
    "wind_spd = api_data['wind']['speed']\n",
    "city_coord = api_data['coord']['lon']\n",
    "city_coord2 = api_data['coord']['lat']\n",
    "date_time = datetime.now().strftime(\"%d %b %Y | %I:%M:%S %p\")\n"
   ]
  },
  {
   "cell_type": "code",
   "execution_count": 10,
   "metadata": {},
   "outputs": [],
   "source": [
    "%%capture cap --no-stderr\n",
    "print (\"********************************************************\")\n",
    "print (\"Weather Stats for - {}  || {}\".format(Enter_location.upper(), date_time))\n",
    "print (\"==*==*==*==*==*==*==*==*==*==*==*==*==*==*==*==*==*==*==\")\n",
    "\n",
    "print (\"Current city is       :\",city_name)\n",
    "print (\"Current temperature is: {:.2f} deg C\".format(temp_city))\n",
    "print (\"Current weather desc  :\",weather_desc)\n",
    "print (\"Current Humidity      :\",hmdt, '%')\n",
    "print (\"Current Latitude      : {} latitude\".format(city_coord))\n",
    "print (\"Current Longitude     : {} longitude\".format(city_coord2))\n",
    "print (\"Current wind speed    :\",wind_spd ,'kmph')"
   ]
  },
  {
   "cell_type": "code",
   "execution_count": 11,
   "metadata": {},
   "outputs": [],
   "source": [
    "with open('Weather.txt', 'w') as f:\n",
    "    f.write(cap.stdout)"
   ]
  },
  {
   "cell_type": "code",
   "execution_count": null,
   "metadata": {},
   "outputs": [],
   "source": []
  },
  {
   "cell_type": "code",
   "execution_count": null,
   "metadata": {},
   "outputs": [],
   "source": []
  }
 ],
 "metadata": {
  "kernelspec": {
   "display_name": "Python 3",
   "language": "python",
   "name": "python3"
  },
  "language_info": {
   "codemirror_mode": {
    "name": "ipython",
    "version": 3
   },
   "file_extension": ".py",
   "mimetype": "text/x-python",
   "name": "python",
   "nbconvert_exporter": "python",
   "pygments_lexer": "ipython3",
   "version": "3.8.5"
  }
 },
 "nbformat": 4,
 "nbformat_minor": 4
}
